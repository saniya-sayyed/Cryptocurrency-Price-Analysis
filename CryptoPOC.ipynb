{
 "cells": [
  {
   "cell_type": "code",
   "execution_count": 0,
   "metadata": {
    "application/vnd.databricks.v1+cell": {
     "cellMetadata": {
      "byteLimit": 2048000,
      "rowLimit": 10000
     },
     "inputWidgets": {},
     "nuid": "34f93aff-c402-4acf-9b41-0adf438a2884",
     "showTitle": false,
     "title": ""
    }
   },
   "outputs": [
    {
     "output_type": "display_data",
     "data": {
      "application/vnd.databricks.v1+bamboolib_hint": "{\"pd.DataFrames\": [], \"version\": \"0.0.1\"}",
      "text/plain": []
     },
     "metadata": {},
     "output_type": "display_data"
    }
   ],
   "source": [
    "import requests\n",
    "import pandas as pd\n",
    "import datetime\n",
    "import sqlite3"
   ]
  },
  {
   "cell_type": "code",
   "execution_count": 0,
   "metadata": {
    "application/vnd.databricks.v1+cell": {
     "cellMetadata": {
      "byteLimit": 2048000,
      "rowLimit": 10000
     },
     "inputWidgets": {},
     "nuid": "b04f32a9-e04f-4cc1-820b-b08d929e1a45",
     "showTitle": false,
     "title": ""
    }
   },
   "outputs": [],
   "source": [
    "# Fetch Data from APIs\n",
    "def fetch_order_book(exchange, market):\n",
    "    urls = {\n",
    "        'cex': 'https://cex.io/api/order_book/{market[0]}/{market[1]}/',\n",
    "        'coinbase': 'https://api.pro.coinbase.com/products/{market}/book?level=2'\n",
    "    }\n",
    "    url = urls[exchange].format(market=market)\n",
    "    response = requests.get(url)\n",
    "    if response.status_code == 200:\n",
    "        return response.json()\n",
    "    else:\n",
    "        return {'message': response.text}"
   ]
  },
  {
   "cell_type": "code",
   "execution_count": 0,
   "metadata": {
    "application/vnd.databricks.v1+cell": {
     "cellMetadata": {
      "byteLimit": 2048000,
      "rowLimit": 10000
     },
     "inputWidgets": {},
     "nuid": "434562e4-8897-49d3-9de9-e3eb4aa4cba8",
     "showTitle": false,
     "title": ""
    }
   },
   "outputs": [],
   "source": [
    "#Transformation logic to extract $100k of bid and ask order book data for each exchange\n",
    "def process_order_book(data, poll_type):\n",
    "    orders = data[poll_type]\n",
    "    total_value = 0\n",
    "    limit = 100000\n",
    "    order_book = []\n",
    "    \n",
    "    for order in orders:\n",
    "        if len(order)==3:\n",
    "            price,quantity, _ = order\n",
    "        else:\n",
    "            price,quantity = order\n",
    "            \n",
    "        price = float(price)\n",
    "        quantity = float(quantity)\n",
    "        order_value = price * quantity\n",
    "\n",
    "        if total_value + order_value > limit:\n",
    "            remaining_value = limit - total_value\n",
    "            quantity = remaining_value / price\n",
    "            order_book.append((price, quantity))\n",
    "            break\n",
    "\n",
    "        order_book.append((price, quantity))\n",
    "        total_value += order_value\n",
    "\n",
    "    return order_book"
   ]
  },
  {
   "cell_type": "code",
   "execution_count": 0,
   "metadata": {
    "application/vnd.databricks.v1+cell": {
     "cellMetadata": {
      "byteLimit": 2048000,
      "rowLimit": 10000
     },
     "inputWidgets": {},
     "nuid": "7f35e59f-d7ab-40fa-bb5c-084f6a884c5d",
     "showTitle": false,
     "title": ""
    }
   },
   "outputs": [],
   "source": [
    "#Load data into the database to persist data in each run\n",
    "def load_to_db(exchange, market, timestamp, bids, asks, db_file):\n",
    "    conn = sqlite3.connect(db_file)\n",
    "    cursor = conn.cursor()\n",
    "    \n",
    "    # cursor.execute('''DROP TABLE IF EXISTS order_books''')\n",
    "    cursor.execute('''\n",
    "        CREATE TABLE IF NOT EXISTS order_books (\n",
    "            exchange TEXT,\n",
    "            market TEXT,\n",
    "            poll_type TEXT,\n",
    "            price REAL,\n",
    "            quantity REAL,\n",
    "            timestamp DATETIME DEFAULT CURRENT_TIMESTAMP\n",
    "        )\n",
    "    ''')\n",
    "\n",
    "    for price, quantity in bids:\n",
    "        cursor.execute('''\n",
    "            INSERT INTO order_books (exchange, market, timestamp, poll_type, price, quantity)\n",
    "            VALUES (?, ?, ?, ?, ?, ?)\n",
    "        ''', (exchange, market, timestamp, 'bid', price, quantity))\n",
    "\n",
    "    for price, quantity in asks:\n",
    "        cursor.execute('''\n",
    "            INSERT INTO order_books (exchange, market, timestamp, poll_type, price, quantity)\n",
    "            VALUES (?, ?, ?, ?, ?, ?)\n",
    "        ''', (exchange, market, timestamp, 'ask', price, quantity))\n",
    "\n",
    "    conn.commit()\n",
    "    conn.close()"
   ]
  },
  {
   "cell_type": "code",
   "execution_count": 0,
   "metadata": {
    "application/vnd.databricks.v1+cell": {
     "cellMetadata": {
      "byteLimit": 2048000,
      "rowLimit": 10000
     },
     "inputWidgets": {},
     "nuid": "d225b95a-e543-453d-9e01-92c2e80207cb",
     "showTitle": false,
     "title": ""
    }
   },
   "outputs": [],
   "source": [
    "#Main control function to run all the above major ETL processes\n",
    "def etl():\n",
    "    exchanges = {\n",
    "        'cex': [['BTC','USD'], ['ETH','USD']],\n",
    "        'coinbase': ['BTC-USD', 'ETH-USD']\n",
    "    }\n",
    "    db_file = '/Workspace/Users/sas8595@mavs.uta.edu/order_books.db'\n",
    "    \n",
    "    timestamp = str(datetime.datetime.now())\n",
    "    for exchange in exchanges:\n",
    "        for market in exchanges[exchange]:\n",
    "            data = fetch_order_book(exchange, market)\n",
    "            if exchange=='cex':\n",
    "                market=market[0]+ '-' +market[1]\n",
    "#             print(data)\n",
    "            bids = process_order_book(data, 'bids')\n",
    "            asks = process_order_book(data, 'asks')\n",
    "            load_to_db(exchange, market, timestamp, bids, asks, db_file)\n",
    "\n",
    "if __name__ == \"__main__\":\n",
    "    etl()"
   ]
  },
  {
   "cell_type": "code",
   "execution_count": 0,
   "metadata": {
    "application/vnd.databricks.v1+cell": {
     "cellMetadata": {
      "byteLimit": 2048000,
      "rowLimit": 10000
     },
     "inputWidgets": {},
     "nuid": "346846bf-b753-4ada-9548-16bce7007368",
     "showTitle": false,
     "title": ""
    }
   },
   "outputs": [
    {
     "output_type": "stream",
     "name": "stdout",
     "output_type": "stream",
     "text": [
      "Average Mid Price for ETH-USD: 3731.095\nAverage Mid Price for BTC-USD: 69827.1\n"
     ]
    }
   ],
   "source": [
    "#Calculate the average mid price for a given market\n",
    "def cal_avg_mid_price(market):\n",
    "    conn = sqlite3.connect('/Workspace/Users/sas8595@mavs.uta.edu/order_books.db')\n",
    "    cursor = conn.cursor()\n",
    "    \n",
    "    query = '''\n",
    "    SELECT \n",
    "        AVG((bid.price + ask.price) / 2) as mkt_mid_price \n",
    "    FROM \n",
    "        (select price \n",
    "        from order_books \n",
    "        where poll_type='bid' and market = ? \n",
    "        order by timestamp DESC LIMIT 1) AS bid,\n",
    "        (select price \n",
    "        from order_books \n",
    "        where poll_type='ask' and market = ? \n",
    "        order by timestamp desc LIMIT 1) AS ask\n",
    "    '''\n",
    "    \n",
    "    cursor.execute(query, (market, market))\n",
    "    result = cursor.fetchone()\n",
    "    conn.close()\n",
    "    \n",
    "    return result[0] if result else None\n",
    "\n",
    "average_mid_price = cal_avg_mid_price('ETH-USD')\n",
    "print(f'Average Mid Price for ETH-USD: {average_mid_price}')\n",
    "average_mid_price = cal_avg_mid_price('BTC-USD')\n",
    "print(f'Average Mid Price for BTC-USD: {average_mid_price}')\n"
   ]
  },
  {
   "cell_type": "code",
   "execution_count": 0,
   "metadata": {
    "application/vnd.databricks.v1+cell": {
     "cellMetadata": {
      "byteLimit": 2048000,
      "rowLimit": 10000
     },
     "inputWidgets": {},
     "nuid": "be22bb18-fb4e-462c-912b-9982caf78cbc",
     "showTitle": false,
     "title": ""
    }
   },
   "outputs": [],
   "source": [
    "# Find best exchange to execute a $50k buy or sell order and best price\n",
    "def get_best_exchange_for_order(market, order_type):\n",
    "    conn = sqlite3.connect('/Workspace/Users/sas8595@mavs.uta.edu/order_books.db')\n",
    "    cursor = conn.cursor()\n",
    "    \n",
    "    if order_type == 'buy':\n",
    "        df=pd.read_sql_query('''\n",
    "        -- Calculate the total cost for each ask price based on a $50k order.\n",
    "WITH buy_order AS (\n",
    "    SELECT \n",
    "        exchange,\n",
    "        market,\n",
    "        price AS ask_price,\n",
    "        quantity,\n",
    "        (quantity * price) AS total_cost,\n",
    "        (50000 / price) AS required_quantity\n",
    "    FROM \n",
    "        order_books\n",
    "    WHERE \n",
    "        poll_type = 'ask' and market = ?\n",
    ")\n",
    "\n",
    "-- Select the best ask price and exchange where the quantity is sufficient for a $50k order.\n",
    "SELECT \n",
    "    exchange,\n",
    "    market,\n",
    "    ask_price,\n",
    "    required_quantity\n",
    "FROM \n",
    "    buy_order\n",
    "WHERE\n",
    "    quantity >= required_quantity\n",
    "ORDER BY \n",
    "    ask_price ASC\n",
    "LIMIT 1;\n",
    "\n",
    "        ''',conn, params=(market,))\n",
    "    else: \n",
    "        df=pd.read_sql_query('''\n",
    "        -- Calculate the total revenue for each bid price based on a $50k order.\n",
    "WITH sell_order AS (\n",
    "    SELECT \n",
    "        exchange,\n",
    "        market,\n",
    "        price AS bid_price,\n",
    "        quantity,\n",
    "        (quantity * price) AS total_revenue,\n",
    "        (50000 / price) AS required_quantity\n",
    "    FROM \n",
    "        order_books\n",
    "    WHERE \n",
    "        poll_type = 'bid' and market=?\n",
    ")\n",
    "\n",
    "-- Select the best bid price and exchange where the quantity is sufficient for a $50k order.\n",
    "SELECT \n",
    "    exchange,\n",
    "    market,\n",
    "    bid_price,\n",
    "    required_quantity\n",
    "    \n",
    "FROM \n",
    "    sell_order\n",
    "WHERE\n",
    "    quantity >= required_quantity\n",
    "ORDER BY \n",
    "    bid_price DESC\n",
    "LIMIT 1;\n",
    "''',conn, params=(market,))\n",
    "    \n",
    "    conn.close()\n",
    "    \n",
    "    if not df.empty:\n",
    "        return df\n",
    "    else:\n",
    "        return \"None\"\n"
   ]
  },
  {
   "cell_type": "code",
   "execution_count": 0,
   "metadata": {
    "application/vnd.databricks.v1+cell": {
     "cellMetadata": {
      "byteLimit": 2048000,
      "rowLimit": 10000
     },
     "inputWidgets": {},
     "nuid": "69bc0e24-49e9-4058-b9e7-88ebf4fd73a5",
     "showTitle": false,
     "title": ""
    }
   },
   "outputs": [
    {
     "output_type": "stream",
     "name": "stdout",
     "output_type": "stream",
     "text": [
      "Best Exchange for $50k Buy Order for BTC:\n"
     ]
    },
    {
     "output_type": "display_data",
     "data": {
      "text/html": [
       "<div>\n",
       "<style scoped>\n",
       "    .dataframe tbody tr th:only-of-type {\n",
       "        vertical-align: middle;\n",
       "    }\n",
       "\n",
       "    .dataframe tbody tr th {\n",
       "        vertical-align: top;\n",
       "    }\n",
       "\n",
       "    .dataframe thead th {\n",
       "        text-align: right;\n",
       "    }\n",
       "</style>\n",
       "<table border=\"1\" class=\"dataframe\">\n",
       "  <thead>\n",
       "    <tr style=\"text-align: right;\">\n",
       "      <th></th>\n",
       "      <th>exchange</th>\n",
       "      <th>market</th>\n",
       "      <th>ask_price</th>\n",
       "      <th>required_quantity</th>\n",
       "    </tr>\n",
       "  </thead>\n",
       "  <tbody>\n",
       "    <tr>\n",
       "      <th>0</th>\n",
       "      <td>coinbase</td>\n",
       "      <td>BTC-USD</td>\n",
       "      <td>69711.22</td>\n",
       "      <td>0.717245</td>\n",
       "    </tr>\n",
       "  </tbody>\n",
       "</table>\n",
       "</div>"
      ]
     },
     "metadata": {
      "application/vnd.databricks.v1+output": {
       "addedWidgets": {},
       "arguments": {},
       "data": "<div>\n<style scoped>\n    .dataframe tbody tr th:only-of-type {\n        vertical-align: middle;\n    }\n\n    .dataframe tbody tr th {\n        vertical-align: top;\n    }\n\n    .dataframe thead th {\n        text-align: right;\n    }\n</style>\n<table border=\"1\" class=\"dataframe\">\n  <thead>\n    <tr style=\"text-align: right;\">\n      <th></th>\n      <th>exchange</th>\n      <th>market</th>\n      <th>ask_price</th>\n      <th>required_quantity</th>\n    </tr>\n  </thead>\n  <tbody>\n    <tr>\n      <th>0</th>\n      <td>coinbase</td>\n      <td>BTC-USD</td>\n      <td>69711.22</td>\n      <td>0.717245</td>\n    </tr>\n  </tbody>\n</table>\n</div>",
       "datasetInfos": [],
       "metadata": {},
       "removedWidgets": [],
       "textData": null,
       "type": "htmlSandbox"
      }
     },
     "output_type": "display_data"
    }
   ],
   "source": [
    "#Results for $50k buy orders BTC\n",
    "best_exchange_for_50k_buy_btc_usd = get_best_exchange_for_order('BTC-USD', 'buy')\n",
    "print(f'Best Exchange for $50k Buy Order for BTC:', end='\\n')\n",
    "best_exchange_for_50k_buy_btc_usd"
   ]
  },
  {
   "cell_type": "code",
   "execution_count": 0,
   "metadata": {
    "application/vnd.databricks.v1+cell": {
     "cellMetadata": {
      "byteLimit": 2048000,
      "rowLimit": 10000
     },
     "inputWidgets": {},
     "nuid": "f641742c-250a-479a-8b49-b11cb5c8550b",
     "showTitle": false,
     "title": ""
    }
   },
   "outputs": [
    {
     "output_type": "stream",
     "name": "stdout",
     "output_type": "stream",
     "text": [
      "Best Exchange for $50k Sell Order for BTC:\n"
     ]
    },
    {
     "output_type": "display_data",
     "data": {
      "text/html": [
       "<div>\n",
       "<style scoped>\n",
       "    .dataframe tbody tr th:only-of-type {\n",
       "        vertical-align: middle;\n",
       "    }\n",
       "\n",
       "    .dataframe tbody tr th {\n",
       "        vertical-align: top;\n",
       "    }\n",
       "\n",
       "    .dataframe thead th {\n",
       "        text-align: right;\n",
       "    }\n",
       "</style>\n",
       "<table border=\"1\" class=\"dataframe\">\n",
       "  <thead>\n",
       "    <tr style=\"text-align: right;\">\n",
       "      <th></th>\n",
       "      <th>exchange</th>\n",
       "      <th>market</th>\n",
       "      <th>bid_price</th>\n",
       "      <th>required_quantity</th>\n",
       "    </tr>\n",
       "  </thead>\n",
       "  <tbody>\n",
       "    <tr>\n",
       "      <th>0</th>\n",
       "      <td>coinbase</td>\n",
       "      <td>BTC-USD</td>\n",
       "      <td>69711.21</td>\n",
       "      <td>0.717245</td>\n",
       "    </tr>\n",
       "  </tbody>\n",
       "</table>\n",
       "</div>"
      ]
     },
     "metadata": {
      "application/vnd.databricks.v1+output": {
       "addedWidgets": {},
       "arguments": {},
       "data": "<div>\n<style scoped>\n    .dataframe tbody tr th:only-of-type {\n        vertical-align: middle;\n    }\n\n    .dataframe tbody tr th {\n        vertical-align: top;\n    }\n\n    .dataframe thead th {\n        text-align: right;\n    }\n</style>\n<table border=\"1\" class=\"dataframe\">\n  <thead>\n    <tr style=\"text-align: right;\">\n      <th></th>\n      <th>exchange</th>\n      <th>market</th>\n      <th>bid_price</th>\n      <th>required_quantity</th>\n    </tr>\n  </thead>\n  <tbody>\n    <tr>\n      <th>0</th>\n      <td>coinbase</td>\n      <td>BTC-USD</td>\n      <td>69711.21</td>\n      <td>0.717245</td>\n    </tr>\n  </tbody>\n</table>\n</div>",
       "datasetInfos": [],
       "metadata": {},
       "removedWidgets": [],
       "textData": null,
       "type": "htmlSandbox"
      }
     },
     "output_type": "display_data"
    }
   ],
   "source": [
    "#Results for $50k sell orders BTC\n",
    "best_exchange_for_50k_sell_btc_usd = get_best_exchange_for_order('BTC-USD', 'sell')\n",
    "print(f'Best Exchange for $50k Sell Order for BTC:',end='\\n')\n",
    "best_exchange_for_50k_sell_btc_usd"
   ]
  },
  {
   "cell_type": "code",
   "execution_count": 0,
   "metadata": {
    "application/vnd.databricks.v1+cell": {
     "cellMetadata": {
      "byteLimit": 2048000,
      "rowLimit": 10000
     },
     "inputWidgets": {},
     "nuid": "60d26108-e734-4eef-8cbc-cf3591315388",
     "showTitle": false,
     "title": ""
    }
   },
   "outputs": [
    {
     "output_type": "stream",
     "name": "stdout",
     "output_type": "stream",
     "text": [
      "Best Exchange for $50k Buy Order for ETH:\nOut[10]: 'None'"
     ]
    }
   ],
   "source": [
    "#Results for $50k buy orders ETH\n",
    "best_exchange_for_50k_buy_eth_usd = get_best_exchange_for_order('ETH-USD', 'buy')\n",
    "print(f'Best Exchange for $50k Buy Order for ETH:',end='\\n')\n",
    "best_exchange_for_50k_buy_eth_usd"
   ]
  },
  {
   "cell_type": "code",
   "execution_count": 0,
   "metadata": {
    "application/vnd.databricks.v1+cell": {
     "cellMetadata": {
      "byteLimit": 2048000,
      "rowLimit": 10000
     },
     "inputWidgets": {},
     "nuid": "ea556bfb-e9d1-4d79-b151-db3ab92b5f7e",
     "showTitle": false,
     "title": ""
    }
   },
   "outputs": [
    {
     "output_type": "stream",
     "name": "stdout",
     "output_type": "stream",
     "text": [
      "Best Exchange for $50k Sell Order for ETH:\nOut[11]: 'None'"
     ]
    }
   ],
   "source": [
    "#Results for $50k sell orders ETH\n",
    "best_exchange_for_50k_sell_eth_usd = get_best_exchange_for_order('ETH-USD', 'sell')\n",
    "print(f'Best Exchange for $50k Sell Order for ETH:',end='\\n')\n",
    "best_exchange_for_50k_sell_eth_usd"
   ]
  }
 ],
 "metadata": {
  "application/vnd.databricks.v1+notebook": {
   "dashboards": [],
   "environmentMetadata": null,
   "language": "python",
   "notebookMetadata": {
    "mostRecentlyExecutedCommandWithImplicitDF": {
     "commandId": -1,
     "dataframes": [
      "_sqldf"
     ]
    },
    "pythonIndentUnit": 4
   },
   "notebookName": "Project-Test",
   "widgets": {}
  },
  "kernelspec": {
   "display_name": "Python 3 (ipykernel)",
   "language": "python",
   "name": "python3"
  },
  "language_info": {
   "codemirror_mode": {
    "name": "ipython",
    "version": 3
   },
   "file_extension": ".py",
   "mimetype": "text/x-python",
   "name": "python",
   "nbconvert_exporter": "python",
   "pygments_lexer": "ipython3",
   "version": "3.9.7"
  }
 },
 "nbformat": 4,
 "nbformat_minor": 0
}
